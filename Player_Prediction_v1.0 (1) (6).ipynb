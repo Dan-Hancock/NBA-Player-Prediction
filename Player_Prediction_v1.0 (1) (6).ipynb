{
 "cells": [
  {
   "cell_type": "code",
   "execution_count": 1,
   "id": "60d80a74-cdee-4895-a8ff-1664fd8d0449",
   "metadata": {
    "editable": true,
    "slideshow": {
     "slide_type": ""
    },
    "tags": []
   },
   "outputs": [],
   "source": [
    "#import nba_api as nb\n",
    "import numpy as np\n",
    "import pandas as pd\n",
    "import scipy as sp\n",
    "import math"
   ]
  },
  {
   "cell_type": "code",
   "execution_count": null,
   "id": "eaa1e560-80cd-40af-ae37-3ae12b69fe1d",
   "metadata": {},
   "outputs": [],
   "source": [
    "from nba_api.stats.endpoints import playercareerstats as pcs\n",
    "from nba_api.stats.endpoints import boxscoreadvancedv2 as adv\n",
    "# Anthony Davis\n",
    "#career = pcs.PlayerCareerStats(player_ID=\"203076\")\n",
    "#career.get_data_frames()[0]"
   ]
  },
  {
   "cell_type": "code",
   "execution_count": null,
   "id": "276d618a-e9b6-4aba-b06c-dc235b6ed622",
   "metadata": {},
   "outputs": [],
   "source": [
    "from nba_api.stats.static import players\n",
    "\n",
    "# get_players returns a list of dictionaries, each representing a player.\n",
    "nba_players = players.get_players()\n",
    "#print(\"Number of players fetched: {}\".format(len(nba_players)))\n",
    "#nba_players[:5]"
   ]
  },
  {
   "cell_type": "code",
   "execution_count": null,
   "id": "20efbb37-27a4-486c-aa71-e249f3170452",
   "metadata": {
    "editable": true,
    "slideshow": {
     "slide_type": ""
    },
    "tags": []
   },
   "outputs": [],
   "source": [
    "players = []\n",
    "i = 0\n",
    "for player in nba_players:\n",
    "    ID = player[\"ID\"]\n",
    "    career = pcs.PlayerCareerStats(player_id=ID)\n",
    "    players.append(career.get_data_frames()[0])\n",
    "    i = i + 1"
   ]
  },
  {
   "cell_type": "code",
   "execution_count": null,
   "id": "0359aebc-79bf-4795-8b3f-d47e442eafd8",
   "metadata": {},
   "outputs": [],
   "source": [
    "#Makes a list of seasons by year\n",
    "\n",
    "years = []\n",
    "season = \"1983\"+\"-84\"\n",
    "#years.append('Name')\n",
    "while int(season[:4]) < 2024:\n",
    "    years.append(season)\n",
    "    year1 = int(season[:4])+1\n",
    "    year2 = int(season[5:7])+1\n",
    "    if year2 == 100:\n",
    "        year2 = 0\n",
    "        season = str(str(year1) + '-' + str(year2) + str(year2))\n",
    "    if year2 < 10:\n",
    "        season = str(str(year1) + '-' + '0' + str(year2))\n",
    "    elif year2 != 100:\n",
    "        season = str(str(year1) + str(-year2))"
   ]
  },
  {
   "cell_type": "code",
   "execution_count": null,
   "id": "f55ef8b5-7398-4420-801f-a6cc286eea0b",
   "metadata": {},
   "outputs": [],
   "source": [
    "#Makes a DF of points/game each year for each player\n",
    "\n",
    "temp = 0\n",
    "ppg_df = pd.DataFrame(columns=years)\n",
    "j = 0\n",
    "ID = []\n",
    "for player in players:\n",
    "    i = 0\n",
    "    for year in player[\"SEASON_ID\"]:\n",
    "        if int(year[0:4]) == 2024:\n",
    "            p = 1\n",
    "        elif int(year[0:4]) >= 1983:\n",
    "            if temp == year:\n",
    "                temp = year\n",
    "                ppg_df.at[j, temp] = [player[\"PTS\"][i]/player[\"GP\"][i],player[\"PLAYER_ID\"][0]]\n",
    "                i = i + 1     \n",
    "            elif temp != year:\n",
    "                temp = year\n",
    "                ppg_df.at[j, year] = [player[\"PTS\"][i]/player[\"GP\"][i],player[\"PLAYER_id\"][0]]\n",
    "                i = i + 1\n",
    "        elif int(year[0:4]) < 1983:\n",
    "            if temp == year:\n",
    "                temp = year\n",
    "                i = i + 1\n",
    "            elif temp != year:\n",
    "                temp = year\n",
    "                i = i + 1\n",
    "    if int(temp[0:4]) >= 1983:\n",
    "        j = j + 1 \n",
    "    if not player.empty:\n",
    "        ID.append(player[\"PLAYER_ID\"][0])"
   ]
  },
  {
   "cell_type": "code",
   "execution_count": null,
   "id": "4098ae1f-d020-47da-945b-327dfe28857c",
   "metadata": {},
   "outputs": [],
   "source": [
    "#Applies each players PPG to a year\n",
    "columns = list(ppg_df)"
   ]
  },
  {
   "cell_type": "code",
   "execution_count": null,
   "id": "1d29800b-143b-4c98-9afc-6fd47564b95c",
   "metadata": {},
   "outputs": [],
   "source": [
    "#Finds and stores the index of top 40 scorers that season\n",
    "\n",
    "avg_pts_index = []\n",
    "for column in columns:\n",
    "    i = 0\n",
    "    if column == 'Name':\n",
    "        i = 1\n",
    "    elif column != 'Name':\n",
    "        a = ppg_df.sort_values(by=[column], ascending=False)\n",
    "        temp1 = []\n",
    "        for values in a[column]:\n",
    "            i = i + 1\n",
    "            temp1.append(values[1])\n",
    "            if i == 40:\n",
    "                break\n",
    "            #row_number = a.index[a[column] == values]\n",
    "            #temp.append(row_number)\n",
    "            #print(temp1)\n",
    "        avg_pts_index.append(temp1)"
   ]
  },
  {
   "cell_type": "code",
   "execution_count": null,
   "id": "b9dd9750-8836-4fcd-87c0-d6b22df2622d",
   "metadata": {},
   "outputs": [],
   "source": [
    "#Restructures indecis of highest averages to make more sense\n",
    "i = 0\n",
    "avg = []\n",
    "while i < len(avg_pts_index):\n",
    "    temp = []\n",
    "    j = 0\n",
    "    while j < 40:\n",
    "        temp.append(avg_pts_index[i][j])\n",
    "        j = j + 1\n",
    "    i = i + 1\n",
    "    avg.append(temp)"
   ]
  },
  {
   "cell_type": "code",
   "execution_count": null,
   "id": "b6317edd-2059-4f46-90a8-0734191694f0",
   "metadata": {},
   "outputs": [],
   "source": [
    "#Stores all player data\n",
    "\n",
    "# open file\n",
    "with open('nba.txt', 'w+') as f:\n",
    "    \n",
    "    # write elements of list\n",
    "    for items in players:\n",
    "        f.write('%s\\n' %items)\n",
    "    \n",
    "    print(\"File written successfully\")\n",
    "\n",
    "\n",
    "# close the file\n",
    "f.close()"
   ]
  },
  {
   "cell_type": "code",
   "execution_count": null,
   "id": "1e4204df-33cf-4400-98d0-6550f4f54c88",
   "metadata": {},
   "outputs": [],
   "source": [
    "#Points per Possession for each Season\n",
    "\n",
    "ppp = [1.8,1.8,1.8,1.9,1.8,1.8,1.9,1.8,1.9,1.9,1.7,1.9,1.8,1.7,1.6,1.3,1.5,1.4,1.5,1.4,1.4,1.7,1.7,1.7,1.8,1.9,1.8,1.8,1.5,1.7,1.7,1.6,1.7,1.9,1.9,1.11,1.11,1.13,1.13,1.16,1.16]"
   ]
  },
  {
   "cell_type": "code",
   "execution_count": null,
   "id": "ae00139c-5371-4f10-97c8-8bdb6d955b61",
   "metadata": {},
   "outputs": [],
   "source": [
    "#Finds, reads, and neatly stores all necessary player data into a DF, accounting for several errors\n",
    "\n",
    "temp = 0\n",
    "df = pd.DataFrame(columns=years)\n",
    "j = 0\n",
    "for player in players:\n",
    "    i = 0\n",
    "    temp2 = '0000'\n",
    "    temp1 = '0000'\n",
    "    for year in player[\"SEASON_ID\"]:\n",
    "        if int(year[0:4]) >= 1983:\n",
    "            if int(year[0:4]) == 2024:\n",
    "                a = 0\n",
    "            elif temp2 == year:\n",
    "                temp2 = year\n",
    "                minutes = player[\"MIN\"][i]\n",
    "                two_point_fieldgoals = (player[\"FGA\"][i] - player[\"FG3A\"][i])/minutes\n",
    "                two_point_percentage = (player[\"FGM\"][i]-player[\"FG3M\"][i])/minutes/two_point_fieldgoals\n",
    "                offensive_rebounds = (player[\"OREB\"][i])/minutes\n",
    "                defensive_rebounds = (player[\"DREB\"][i])/minutes\n",
    "                free_throws = (player[\"FTA\"][i])/minutes\n",
    "                free_throw_percentage = (player[\"FT_PCT\"][i])\n",
    "                three_point_fieldgoals = (player[\"FG3A\"][i])/minutes\n",
    "                three_point_percentage = (player[\"FG3_PCT\"][i])\n",
    "                blocks = (player[\"BLK\"][i])/minutes\n",
    "                steals = (player[\"STL\"][i])/minutes\n",
    "                turnovers = (player[\"TOV\"][i])/minutes\n",
    "                assists = (player[\"AST\"][i])/minutes\n",
    "                personal_fouls = (player[\"PF\"][i])/minutes\n",
    "                player_id = player[\"PLAYER_ID\"][i]\n",
    "                temp1 = year\n",
    "                df.at[j, temp2] = [two_point_fieldgoals,two_point_percentage,offensive_rebounds,defensive_rebounds,free_throws,free_throw_percentage,three_point_fieldgoals,three_point_percentage,blocks,steals,turnovers,assists,personal_fouls,player_id,minutes]\n",
    "                i = i + 1\n",
    "            elif temp1 == year:\n",
    "                temp1 = year\n",
    "                minutes = player[\"MIN\"][i]\n",
    "                two_point_fieldgoals = (player[\"FGA\"][i] - player[\"FG3A\"][i])/minutes\n",
    "                two_point_percentage = (player[\"FGM\"][i]-player[\"FG3M\"][i])/minutes/two_point_fieldgoals\n",
    "                offensive_rebounds = (player[\"OREB\"][i])/minutes\n",
    "                defensive_rebounds = (player[\"DREB\"][i])/minutes\n",
    "                free_throws = (player[\"FTA\"][i])/minutes\n",
    "                free_throw_percentage = (player[\"FT_PCT\"][i])\n",
    "                three_point_fieldgoals = (player[\"FG3A\"][i])/minutes\n",
    "                three_point_percentage = (player[\"FG3_PCT\"][i])\n",
    "                blocks = (player[\"BLK\"][i])/minutes\n",
    "                steals = (player[\"STL\"][i])/minutes\n",
    "                turnovers = (player[\"TOV\"][i])/minutes\n",
    "                assists = (player[\"AST\"][i])/minutes\n",
    "                personal_fouls = (player[\"PF\"][i])/minutes\n",
    "                player_id = player['PLAYER_ID'][i]\n",
    "                temp1 = year\n",
    "                temp2 = temp1\n",
    "                df.at[j, temp1] = [two_point_fieldgoals,two_point_percentage,offensive_rebounds,defensive_rebounds,free_throws,free_throw_percentage,three_point_fieldgoals,three_point_percentage,blocks,steals,turnovers,assists,personal_fouls,player_id,minutes]\n",
    "                i = i + 1     \n",
    "            elif temp1 != year:\n",
    "                minutes = player[\"MIN\"][i]\n",
    "                TwoFG = (player[\"FGA\"][i] - player[\"FG3A\"][i])/minutes\n",
    "                two_point_percentage = (player[\"FGM\"][i]-player[\"FG3M\"][i])/minutes/two_point_fieldgoals\n",
    "                offensive_rebounds = (player[\"OREB\"][i])/minutes\n",
    "                defensive_rebounds = (player[\"DREB\"][i])/minutes\n",
    "                free_throws = (player[\"FTA\"][i])/minutes\n",
    "                free_throw_percentage = (player[\"FT_PCT\"][i])\n",
    "                three_point_fieldgoals = (player[\"FG3A\"][i])/minutes\n",
    "                three_point_percentage = (player[\"FG3_PCT\"][i])\n",
    "                blocks = (player[\"BLK\"][i])/minutes\n",
    "                steals = (player[\"STL\"][i])/minutes\n",
    "                turnovers = (player[\"TOV\"][i])/minutes\n",
    "                assists = (player[\"AST\"][i])/minutes\n",
    "                personal_fouls = (player[\"PF\"][i])/minutes\n",
    "                player_id = player['PLAYER_ID'][i]\n",
    "                temp1 = year\n",
    "                df.at[j, temp1] = [two_point_fieldgoals,two_point_percentage,offensive_rebounds,defensive_rebounds,free_throws,free_throw_percentage,three_point_fieldgoals,three_point_percentage,blocks,steals,turnovers,assists,personal_fouls,player_id,minutes]\n",
    "                i = i + 1\n",
    "        elif int(year[0:4]) < 1983:\n",
    "            if int(year[0:4]) == 2024:\n",
    "                a = 0\n",
    "            elif temp1 == year:\n",
    "                temp1 = year\n",
    "                i = i + 1\n",
    "            elif temp1 != year:\n",
    "                temp1 = year\n",
    "                i = i + 1\n",
    "    if int(temp1[0:4]) >= 1983:\n",
    "        j = j + 1"
   ]
  },
  {
   "cell_type": "code",
   "execution_count": null,
   "id": "d8966060-b663-4b21-89f2-a4004eab8e6a",
   "metadata": {},
   "outputs": [],
   "source": [
    "#Finds Averages per season of a few important stats\n",
    "\n",
    "columns = list(df)\n",
    "avg = []\n",
    "metric_adjustment = []\n",
    "k = 0\n",
    "\n",
    "for column in columns:\n",
    "    temp = []\n",
    "    j = 0\n",
    "    two_point_sum = 0\n",
    "    three_point_sum = 0\n",
    "    free_throw_sum = 0\n",
    "    personal_foul_sum = 0\n",
    "    [two_point_fieldgoals,two_point_percentage,offensive_rebounds,defensive_rebounds,free_throws,free_throw_percentage,three_point_fieldgoals,three_point_percentage,blocks,steals,turnovers,assists,personal_fouls,player_id]\n",
    "    while j < 15:\n",
    "        i = 0\n",
    "        s = 0\n",
    "        n = 0\n",
    "        while i < 1876:\n",
    "            #print(i)\n",
    "            if type(df[column][i]) == list:\n",
    "                if df[column][i][j] is None:\n",
    "                    if (df[column][i][13] in avg_pts_index[k]) == False:\n",
    "                        #print(type(df[column][i][j]))\n",
    "                        #print(i)\n",
    "                        #print(j)\n",
    "                        n = n + 1\n",
    "                elif df[column][i][j] is not None:\n",
    "                    if math.isnan(df[column][i][j]) == True:\n",
    "                        p = 0\n",
    "                    elif math.isnan(df[column][i][j]) == False:\n",
    "                        if df[column][i][14] > 100:\n",
    "                            if (df[column][i][13] in avg_pts_index[k]) == False:\n",
    "                            #print(type(df[column][i][j]))\n",
    "                                if j == 0:\n",
    "                                    two_point_sum = two_point_sum + df[column][i][j]\n",
    "                                if j == 6:\n",
    "                                    three_point_sum = three_point_sum + df[column][i][j]\n",
    "                                if j == 4:\n",
    "                                    free_throw_sum = free_throw_sum + df[column][i][j]\n",
    "                                if j == 12:\n",
    "                                    personal_foul_sum = personal_foul_sum + df[column][i][j]                               \n",
    "                                n = n + 1\n",
    "                                s = s + df[column][i][j]\n",
    "            i = i + 1\n",
    "        temp.append(s/n)\n",
    "        j = j + 1\n",
    "    avg.append(temp)\n",
    "    metric_adjustment.append([two_point_sum*2/(three_point_sum*3+two_point_sum*2)*2 + three_point_sum*3/(three_point_sum*3+two_point_sum*2)*3,free_throw_sum/personal_foul_sum*avg[k][5],ppp[k]])\n",
    "    k = k + 1\n",
    "    "
   ]
  },
  {
   "cell_type": "code",
   "execution_count": null,
   "id": "fda2aba2-cca7-46c8-8a35-30c23c8d4c94",
   "metadata": {},
   "outputs": [],
   "source": [
    "# Calculates the metric for all players with more than 100 minutes\n",
    "\n",
    "i = 0\n",
    "player_performance_metric = []\n",
    "for year in df:\n",
    "    for player in df[year]:\n",
    "        temp = 0\n",
    "        if type(player) != list:\n",
    "            a = 1;\n",
    "        if type(player) == list:\n",
    "            if player[14] > 100:\n",
    "                two_point_fieldgoals = player[0]/avg[i][0]\n",
    "                two_point_percentage = player[1]/avg[i][1]\n",
    "                offensive_rebounds = player[2]/avg[i][2]\n",
    "                defensive_rebounds = player[3]/avg[i][3]\n",
    "                free_throws = player[4]/avg[i][4]\n",
    "                if player[5] is not None:\n",
    "                    free_throw_percentage = player[5]/avg[i][5]\n",
    "                if player[5] is None:\n",
    "                    free_throw_percentage = 0\n",
    "                three_point_fieldgoals = player[6]/avg[i][6]\n",
    "                if player[7] is not None:\n",
    "                    three_point_percentage = player[7]/avg[i][7]\n",
    "                    if math.isnan(three_point_percentage):\n",
    "                        three_point_percentage = 0\n",
    "                if player[7] is None:\n",
    "                    three_point_percentage = 0\n",
    "                blocks = player[8]/avg[i][8]\n",
    "                steals = player[9]/avg[i][9]\n",
    "                turnovers = player[10]/avg[i][10]\n",
    "                assists = player[11]/avg[i][11]\n",
    "                personal_fouls = player[12]/avg[i][12]\n",
    "                player_id = player[13]\n",
    "                MET = ((TwoFG*two_point_percentage+blocks/2)*2+three_point_fieldgoals*three_point_percentage*3+(FT*free_throw_percentage-PF*(metric_adjustment[i][1])))+assists*0.6*(metric_adjustment[i][0])\n",
    "                +(steals-turnovers+offensive_rebounds+defensive_rebounds/2)*(metric_adjustment[i][2])\n",
    "                if math.isnan(MET) == True:\n",
    "                    print(three_point_percentage)\n",
    "                k = 0\n",
    "                for player_ids in player_performance_metric:\n",
    "                    if player_id == player_ids[0][1]:\n",
    "                        temp = 1\n",
    "                        break;\n",
    "                    k = k + 1     \n",
    "                if temp == 0:\n",
    "                    player_performance_metric.append([[MET,player_id]])\n",
    "                elif temp == 1:\n",
    "                    player_performance_metric[k].append([MET,player_id])\n",
    "    i = i + 1"
   ]
  },
  {
   "cell_type": "code",
   "execution_count": null,
   "id": "aec7cec0-9924-4077-8997-5491f303a564",
   "metadata": {},
   "outputs": [],
   "source": [
    "#Creates a list of player IDs and reformats the metric to not include ID\n",
    "\n",
    "i = 0\n",
    "ID = []\n",
    "for player in player_performance_metric:\n",
    "    j = 0\n",
    "    ID.append(str(player_performance_metric[i][j][1]))\n",
    "    for year in player: \n",
    "        player_performance_metric[i][j] = player_performance_metric[i][j][0]\n",
    "        j = j + 1\n",
    "    i = i + 1"
   ]
  },
  {
   "cell_type": "code",
   "execution_count": null,
   "id": "74b6452d-a42b-4684-98f8-db50b811f521",
   "metadata": {},
   "outputs": [],
   "source": [
    "# Pads the metric for processing\n",
    "max_length = max([np.array(player_performance_metric[i]).shape[0] for i in range(len(player_performance_metric))])\n",
    "\n",
    "# Pad the time series to the same length\n",
    "X_padded = []\n",
    "for i in range(len(player_performance_metric)):\n",
    "    padded = np.pad(player_performance_metric[i], ((0, max_length - np.array(player_performance_metric[i]).shape[0])), 'constant')\n",
    "    X_padded.append(padded)\n",
    "X_padded = np.array(X_padded)\n",
    "player_performance_metric = X_padded.tolist()"
   ]
  },
  {
   "cell_type": "code",
   "execution_count": null,
   "id": "cb00c16f-956c-4d17-803c-c4381e74d04c",
   "metadata": {},
   "outputs": [],
   "source": [
    "# Saves the padded metric as a dataframe\n",
    "df2 = pd.DataFrame(np.array(player_performance_metric).transpose(),\n",
    "                   columns=ID)\n",
    "df2.to_csv('player_performance_metric.csv', index=False)"
   ]
  },
  {
   "cell_type": "code",
   "execution_count": 2,
   "id": "c3fab4d7-3039-443b-9ac7-dc75c3302557",
   "metadata": {},
   "outputs": [],
   "source": [
    "# Imports metric dataframe if already calculated\n",
    "import pandas as pd\n",
    "import numpy as np\n",
    "df = pd.read_csv('player_performance_metric.csv')\n",
    "player_performance_metric = []\n",
    "for i in df:\n",
    "    player_performance_metric.append(df[i].values)"
   ]
  },
  {
   "cell_type": "code",
   "execution_count": 3,
   "id": "beef675e-c842-46a2-a017-c9a0fc31abef",
   "metadata": {},
   "outputs": [
    {
     "data": {
      "application/vnd.jupyter.widget-view+json": {
       "model_id": "1ad3c410df1848098faedb3d8da4bead",
       "version_major": 2,
       "version_minor": 0
      },
      "text/plain": [
       "Summarize dataset:   0%|          | 0/5 [00:00<?, ?it/s]"
      ]
     },
     "metadata": {},
     "output_type": "display_data"
    },
    {
     "name": "stderr",
     "output_type": "stream",
     "text": [
      "\n",
      "KeyboardInterrupt\n",
      "\n"
     ]
    }
   ],
   "source": [
    "from ydata_profiling import ProfileReport\n",
    "profile = ProfileReport(df, title=\"Report\")\n",
    "profile"
   ]
  },
  {
   "cell_type": "code",
   "execution_count": 4,
   "id": "80911070-e9db-4411-8a7b-93f4a2ca120a",
   "metadata": {
    "editable": true,
    "slideshow": {
     "slide_type": ""
    },
    "tags": []
   },
   "outputs": [],
   "source": [
    "# Adds a different metric list that includes the year each player has been in the league\n",
    "player_performance_metric = []\n",
    "player_performance_year = []\n",
    "for player in df:\n",
    "    temp = []\n",
    "    temp2 = []\n",
    "    j = 0\n",
    "    for year in df[player]:\n",
    "        temp.append(year)\n",
    "        temp2.append(j)\n",
    "        j = j + 1\n",
    "    player_performance_metric.append(temp)\n",
    "    player_performance_year.append(temp2)\n",
    "player_performance_metric = np.array(player_performance_metric).reshape(2818,22,1)"
   ]
  },
  {
   "cell_type": "code",
   "execution_count": 6,
   "id": "1a864f9e-34d8-45be-8af6-76ba7a00bb62",
   "metadata": {},
   "outputs": [],
   "source": [
    "# Cleans up the metric slightly\n",
    "j = 0\n",
    "player_performance_metric_adjusted = []\n",
    "for player in player_performance_metric:\n",
    "    i = 0\n",
    "    temp = []\n",
    "    for year in player:\n",
    "        #print(player_performance_metric[j][i][0])\n",
    "        temp.append([player_performance_metric[j][i][0],player_performance_year[j][i]+1])\n",
    "        i = i + 1\n",
    "    player_performance_metric_adjusted.append(temp)\n",
    "    j = j + 1"
   ]
  },
  {
   "cell_type": "code",
   "execution_count": 8,
   "id": "3bfab59f-1e3e-4c55-be29-00691cf86703",
   "metadata": {},
   "outputs": [],
   "source": [
    "#changes year 22 to be 0 to make scaling not go to 0\n",
    "#the 1 datapoint of a player playing in year 22 is not that important\n",
    "i = 0\n",
    "for player in player_performance_metric_adjusted:\n",
    "    j = 0\n",
    "    for year in player:\n",
    "        if year[1] == 22:\n",
    "            #player_performance_metric_adjusted[i][j][1] = 0\n",
    "            a = 1\n",
    "        j = j + 1\n",
    "    i = i + 1"
   ]
  },
  {
   "cell_type": "code",
   "execution_count": 10,
   "id": "6c8426e5-dc1f-4d31-8b6b-814ac254f937",
   "metadata": {
    "editable": true,
    "slideshow": {
     "slide_type": ""
    },
    "tags": []
   },
   "outputs": [],
   "source": [
    "#cleaning up and scaling\n",
    "\n",
    "player_performance_scaled = []\n",
    "i = 0\n",
    "while i < len(player_performance_metric_adjusted):\n",
    "    player_performance_scaled.append(player_performance_metric_adjusted[i][0:22])\n",
    "    i = i + 1\n",
    "#Scaling data and accounting for error\n",
    "from sklearn.preprocessing import MinMaxScaler\n",
    "scaler = MinMaxScaler(feature_range=(0, 1))\n",
    "player_performance_scaled = np.array(player_performance_scaled).reshape(-1,2).tolist()\n",
    "scaler = scaler.fit(player_performance_scaled)\n",
    "normalized = scaler.transform(player_performance_scaled)\n",
    "player_performance_scaled = normalized"
   ]
  },
  {
   "cell_type": "code",
   "execution_count": 12,
   "id": "8d6d4f89-73ce-4e45-8062-451ba28d63c9",
   "metadata": {},
   "outputs": [],
   "source": [
    "#Separating into X (input) and Y (target) data\n",
    "#Here Y is set to be a year after X so that I can predict the next year based on the current year\n",
    "X = []\n",
    "Y = []\n",
    "i = 0\n",
    "while i < len(player_performance_scaled):\n",
    "    X.append(player_performance_scaled[i:i+20])\n",
    "    Y.append(player_performance_scaled[i+1:i+21])\n",
    "    i = i + 22"
   ]
  },
  {
   "cell_type": "code",
   "execution_count": 14,
   "id": "b3445b2d-708a-41c3-8e58-0944cdcd0b19",
   "metadata": {
    "editable": true,
    "slideshow": {
     "slide_type": ""
    },
    "tags": []
   },
   "outputs": [],
   "source": [
    "#Scaling data and accounting for error\n",
    "X = np.array(X).reshape(-1,2).tolist()\n",
    "Y = np.array(Y).reshape(-1,2).tolist()"
   ]
  },
  {
   "cell_type": "code",
   "execution_count": 15,
   "id": "583490fe-7f4d-4eff-91ba-3a8ea681ef22",
   "metadata": {},
   "outputs": [],
   "source": [
    "#The last year in a players' career currently teaches the model that \n",
    "#eventually the metric decays to 0\n",
    "#I want growth\n",
    "i = 0\n",
    "while i < len(X):\n",
    "    if X[i][0] != 0 and Y[i][0] == 0:\n",
    "        X[i][0] = 0\n",
    "    i = i + 1"
   ]
  },
  {
   "cell_type": "code",
   "execution_count": 16,
   "id": "a557ada5-dedd-46c9-84db-13ab293cf76f",
   "metadata": {},
   "outputs": [
    {
     "name": "stdout",
     "output_type": "stream",
     "text": [
      "38101\n",
      "0\n"
     ]
    }
   ],
   "source": [
    "i = 0\n",
    "for player in Y:\n",
    "    j = 0\n",
    "    for year in player:\n",
    "        if math.isnan(year) == True:\n",
    "            Y[i][j] = 0\n",
    "        if Y[i][j] == 0 and 0 != X[i][j]:\n",
    "            print(i)\n",
    "            print(j)\n",
    "            X[i][j] = 0\n",
    "        j = j + 1\n",
    "    i = i + 1\n",
    "i = 0\n",
    "for player in X:\n",
    "    j = 0\n",
    "    for year in player:\n",
    "        if math.isnan(year) == True:\n",
    "            X[i][j] = 0\n",
    "        j = j + 1\n",
    "    i = i + 1"
   ]
  },
  {
   "cell_type": "markdown",
   "id": "406ac92f-c08e-4d9e-aa4c-cb742f43502d",
   "metadata": {},
   "source": [
    "Deep Learning Implementation\n",
    "\n",
    "When I started this project, I started it with deep learning in mind. After nearly completing this portion, I learned that this type of problem is more commonly solved with standard regressions. This portion covers my deep learning approach. I believe this appraoch still works, but as you can see later, a simple regression is able to come to very similar conclusions (according to R^2) with much less time and resources required. "
   ]
  },
  {
   "cell_type": "code",
   "execution_count": 21,
   "id": "fe0ee035-333b-48e2-89ca-41c5f07a5a30",
   "metadata": {},
   "outputs": [],
   "source": [
    "#Split data\n",
    "from sklearn.model_selection import train_test_split\n",
    "\n",
    "#Create dataset without 0's\n",
    "Ys = []\n",
    "Xs = []\n",
    "for i in Y:\n",
    "    if i[0] != 0:\n",
    "        Ys.append([[i[0]]])\n",
    "for i in X:\n",
    "    if i[0] != 0:\n",
    "        Xs.append(i)\n",
    "\n",
    "X_train, X_test, Y_train, Y_test = train_test_split(Xs, Ys, test_size=0.3,shuffle=False)\n",
    "X_train = np.array(X_train)\n",
    "Y_train = np.array(Y_train)\n",
    "X_test = np.array(X_test)\n",
    "Y_test = np.array(Y_test)"
   ]
  },
  {
   "cell_type": "code",
   "execution_count": 22,
   "id": "b86c59cb-53b3-4771-ac55-84301e09fb38",
   "metadata": {
    "editable": true,
    "slideshow": {
     "slide_type": ""
    },
    "tags": []
   },
   "outputs": [],
   "source": [
    "# Prepare the model\n",
    "import numpy as np\n",
    "import tensorflow as tf\n",
    "import tensorflow.keras as keras\n",
    "from keras import regularizers"
   ]
  },
  {
   "cell_type": "code",
   "execution_count": 25,
   "id": "3dac540c-d708-43bd-976a-3b54b2c28f0f",
   "metadata": {
    "editable": true,
    "slideshow": {
     "slide_type": ""
    },
    "tags": []
   },
   "outputs": [],
   "source": [
    "#Alternate model preparation\n",
    "tf.keras.utils.set_random_seed(2)\n",
    "model = keras.Sequential()\n",
    "model.add(keras.layers.Input(shape=(2, 1)))\n",
    "#model.add(keras.layers.LSTM(256))\n",
    "model.add(keras.layers.Flatten())\n",
    "model.add(keras.layers.Dense(256,kernel_regularizer=regularizers.l1(0.000001)))\n",
    "model.add(keras.layers.LeakyReLU(negative_slope=0.05))\n",
    "model.add(keras.layers.Dense(128,kernel_regularizer=regularizers.l1(0.000001)))\n",
    "model.add(keras.layers.LeakyReLU(negative_slope=0.05))\n",
    "model.add(keras.layers.Dense(1,kernel_regularizer=regularizers.l1(0.000001)))\n",
    "model.add(keras.layers.LeakyReLU(negative_slope=0.05))\n",
    "#model.add(keras.layers.Dropout(0.4))\n",
    "#model.add(keras.layers.Dense(64, activation=\"relu\"))\n",
    "#model.add(keras.layers.Dropout(0.4))\n",
    "#model.add(keras.layers.Dense(5, activation=\"softmax\"))"
   ]
  },
  {
   "cell_type": "code",
   "execution_count": 27,
   "id": "ee0b8afa-8bce-4d4c-82a0-3ae24646c2e6",
   "metadata": {
    "editable": true,
    "slideshow": {
     "slide_type": ""
    },
    "tags": []
   },
   "outputs": [
    {
     "name": "stdout",
     "output_type": "stream",
     "text": [
      "Epoch 1/20\n",
      "\u001b[1m469/469\u001b[0m \u001b[32m━━━━━━━━━━━━━━━━━━━━\u001b[0m\u001b[37m\u001b[0m \u001b[1m2s\u001b[0m 1ms/step - loss: 0.0305\n",
      "Epoch 2/20\n",
      "\u001b[1m469/469\u001b[0m \u001b[32m━━━━━━━━━━━━━━━━━━━━\u001b[0m\u001b[37m\u001b[0m \u001b[1m1s\u001b[0m 1ms/step - loss: 0.0261\n",
      "Epoch 3/20\n",
      "\u001b[1m469/469\u001b[0m \u001b[32m━━━━━━━━━━━━━━━━━━━━\u001b[0m\u001b[37m\u001b[0m \u001b[1m1s\u001b[0m 2ms/step - loss: 0.0257\n",
      "Epoch 4/20\n",
      "\u001b[1m469/469\u001b[0m \u001b[32m━━━━━━━━━━━━━━━━━━━━\u001b[0m\u001b[37m\u001b[0m \u001b[1m1s\u001b[0m 1ms/step - loss: 0.0254\n",
      "Epoch 5/20\n",
      "\u001b[1m469/469\u001b[0m \u001b[32m━━━━━━━━━━━━━━━━━━━━\u001b[0m\u001b[37m\u001b[0m \u001b[1m1s\u001b[0m 1ms/step - loss: 0.0252\n",
      "Epoch 6/20\n",
      "\u001b[1m469/469\u001b[0m \u001b[32m━━━━━━━━━━━━━━━━━━━━\u001b[0m\u001b[37m\u001b[0m \u001b[1m1s\u001b[0m 1ms/step - loss: 0.0251\n",
      "Epoch 7/20\n",
      "\u001b[1m469/469\u001b[0m \u001b[32m━━━━━━━━━━━━━━━━━━━━\u001b[0m\u001b[37m\u001b[0m \u001b[1m1s\u001b[0m 1ms/step - loss: 0.0248\n",
      "Epoch 8/20\n",
      "\u001b[1m469/469\u001b[0m \u001b[32m━━━━━━━━━━━━━━━━━━━━\u001b[0m\u001b[37m\u001b[0m \u001b[1m1s\u001b[0m 1ms/step - loss: 0.0249\n",
      "Epoch 9/20\n",
      "\u001b[1m469/469\u001b[0m \u001b[32m━━━━━━━━━━━━━━━━━━━━\u001b[0m\u001b[37m\u001b[0m \u001b[1m1s\u001b[0m 1ms/step - loss: 0.0246\n",
      "Epoch 10/20\n",
      "\u001b[1m469/469\u001b[0m \u001b[32m━━━━━━━━━━━━━━━━━━━━\u001b[0m\u001b[37m\u001b[0m \u001b[1m1s\u001b[0m 1ms/step - loss: 0.0244\n",
      "Epoch 11/20\n",
      "\u001b[1m469/469\u001b[0m \u001b[32m━━━━━━━━━━━━━━━━━━━━\u001b[0m\u001b[37m\u001b[0m \u001b[1m1s\u001b[0m 2ms/step - loss: 0.0244\n",
      "Epoch 12/20\n",
      "\u001b[1m469/469\u001b[0m \u001b[32m━━━━━━━━━━━━━━━━━━━━\u001b[0m\u001b[37m\u001b[0m \u001b[1m1s\u001b[0m 2ms/step - loss: 0.0243\n",
      "Epoch 13/20\n",
      "\u001b[1m469/469\u001b[0m \u001b[32m━━━━━━━━━━━━━━━━━━━━\u001b[0m\u001b[37m\u001b[0m \u001b[1m1s\u001b[0m 2ms/step - loss: 0.0243\n",
      "Epoch 14/20\n",
      "\u001b[1m469/469\u001b[0m \u001b[32m━━━━━━━━━━━━━━━━━━━━\u001b[0m\u001b[37m\u001b[0m \u001b[1m1s\u001b[0m 2ms/step - loss: 0.0242\n",
      "Epoch 15/20\n",
      "\u001b[1m469/469\u001b[0m \u001b[32m━━━━━━━━━━━━━━━━━━━━\u001b[0m\u001b[37m\u001b[0m \u001b[1m1s\u001b[0m 2ms/step - loss: 0.0243\n",
      "Epoch 16/20\n",
      "\u001b[1m469/469\u001b[0m \u001b[32m━━━━━━━━━━━━━━━━━━━━\u001b[0m\u001b[37m\u001b[0m \u001b[1m1s\u001b[0m 2ms/step - loss: 0.0242\n",
      "Epoch 17/20\n",
      "\u001b[1m469/469\u001b[0m \u001b[32m━━━━━━━━━━━━━━━━━━━━\u001b[0m\u001b[37m\u001b[0m \u001b[1m1s\u001b[0m 2ms/step - loss: 0.0242\n",
      "Epoch 18/20\n",
      "\u001b[1m469/469\u001b[0m \u001b[32m━━━━━━━━━━━━━━━━━━━━\u001b[0m\u001b[37m\u001b[0m \u001b[1m1s\u001b[0m 2ms/step - loss: 0.0240\n",
      "Epoch 19/20\n",
      "\u001b[1m469/469\u001b[0m \u001b[32m━━━━━━━━━━━━━━━━━━━━\u001b[0m\u001b[37m\u001b[0m \u001b[1m1s\u001b[0m 1ms/step - loss: 0.0241\n",
      "Epoch 20/20\n",
      "\u001b[1m469/469\u001b[0m \u001b[32m━━━━━━━━━━━━━━━━━━━━\u001b[0m\u001b[37m\u001b[0m \u001b[1m1s\u001b[0m 1ms/step - loss: 0.0240\n"
     ]
    },
    {
     "data": {
      "text/plain": [
       "<keras.src.callbacks.history.History at 0x1d94ded8980>"
      ]
     },
     "execution_count": 27,
     "metadata": {},
     "output_type": "execute_result"
    }
   ],
   "source": [
    "# Run the NN\n",
    "my_adam_optimizer = keras.optimizers.Adam(learning_rate=0.001)\n",
    "model.compile(optimizer=my_adam_optimizer, loss='mean_absolute_error')\n",
    "model.fit(X_train, Y_train, epochs=20, batch_size=20)"
   ]
  },
  {
   "cell_type": "code",
   "execution_count": 28,
   "id": "4c4a9a0c-aabf-45f3-ac0a-36a33c5c9d67",
   "metadata": {
    "editable": true,
    "slideshow": {
     "slide_type": ""
    },
    "tags": []
   },
   "outputs": [
    {
     "name": "stdout",
     "output_type": "stream",
     "text": [
      "\u001b[1m201/201\u001b[0m \u001b[32m━━━━━━━━━━━━━━━━━━━━\u001b[0m\u001b[37m\u001b[0m \u001b[1m0s\u001b[0m 2ms/step - loss: 0.0155\n"
     ]
    }
   ],
   "source": [
    "# Check results\n",
    "results = model.evaluate(X_test, Y_test, batch_size=20)"
   ]
  },
  {
   "cell_type": "code",
   "execution_count": 29,
   "id": "963e2367-1adf-416a-ab9d-bfd32a952543",
   "metadata": {},
   "outputs": [
    {
     "name": "stdout",
     "output_type": "stream",
     "text": [
      "\u001b[1m126/126\u001b[0m \u001b[32m━━━━━━━━━━━━━━━━━━━━\u001b[0m\u001b[37m\u001b[0m \u001b[1m0s\u001b[0m 2ms/step\n",
      "\u001b[1m293/293\u001b[0m \u001b[32m━━━━━━━━━━━━━━━━━━━━\u001b[0m\u001b[37m\u001b[0m \u001b[1m0s\u001b[0m 1ms/step\n"
     ]
    }
   ],
   "source": [
    "# Predict for testing dataset\n",
    "predicts_test = model.predict(X_test)\n",
    "predicts_train = model.predict(X_train)"
   ]
  },
  {
   "cell_type": "code",
   "execution_count": 30,
   "id": "1f3a905c-f8d3-4da4-8558-52e5b20c55e8",
   "metadata": {},
   "outputs": [],
   "source": [
    "# Prepare data to calculate R^2\n",
    "r2_data = []\n",
    "r2_test = []\n",
    "j = 0\n",
    "for i in predicts_test:\n",
    "    r2_data.append(i[0])\n",
    "    r2_test.append(Y_test[j][0])\n",
    "    j = j + 1"
   ]
  },
  {
   "cell_type": "code",
   "execution_count": 31,
   "id": "af0faff8-c72c-49d3-888a-6fff70b6058c",
   "metadata": {},
   "outputs": [],
   "source": [
    "r2_data_train = []\n",
    "r2_train = []\n",
    "j = 0\n",
    "for i in predicts_train:\n",
    "    r2_data_train.append(i[0])\n",
    "    r2_train.append(Y_train[j][0])\n",
    "    j = j + 1"
   ]
  },
  {
   "cell_type": "code",
   "execution_count": 32,
   "id": "d50e7d2d-d645-4bd4-9815-7a1b555eb8b0",
   "metadata": {},
   "outputs": [
    {
     "name": "stdout",
     "output_type": "stream",
     "text": [
      "0.6495072092381516\n",
      "0.6774259813097461\n"
     ]
    }
   ],
   "source": [
    "#Calculate R^2\n",
    "import sklearn\n",
    "print(sklearn.metrics.r2_score(r2_test, r2_data))\n",
    "print(sklearn.metrics.r2_score(r2_train, r2_data_train))"
   ]
  },
  {
   "cell_type": "code",
   "execution_count": 35,
   "id": "1e901a8a-dd79-41af-98f8-4ffaf73b936d",
   "metadata": {},
   "outputs": [
    {
     "data": {
      "text/plain": [
       "<matplotlib.collections.PathCollection at 0x1d95125d940>"
      ]
     },
     "execution_count": 35,
     "metadata": {},
     "output_type": "execute_result"
    },
    {
     "data": {
      "image/png": "[encoded data removed]",
      "text/plain": [
       "<Figure size 640x480 with 1 Axes>"
      ]
     },
     "metadata": {},
     "output_type": "display_data"
    }
   ],
   "source": [
    "from matplotlib import pyplot as plt\n",
    "plt.scatter(r2_test,r2_data)"
   ]
  },
  {
   "cell_type": "code",
   "execution_count": 37,
   "id": "89bd9430-2ed4-488f-9249-e4791bd1b92d",
   "metadata": {},
   "outputs": [
    {
     "data": {
      "text/plain": [
       "<matplotlib.collections.PathCollection at 0x1d95140e180>"
      ]
     },
     "execution_count": 37,
     "metadata": {},
     "output_type": "execute_result"
    },
    {
     "data": {
      "image/png": "[encoded data removed]",
      "text/plain": [
       "<Figure size 640x480 with 1 Axes>"
      ]
     },
     "metadata": {},
     "output_type": "display_data"
    }
   ],
   "source": [
    "plt.scatter(r2_train,r2_data_train)"
   ]
  },
  {
   "cell_type": "code",
   "execution_count": 39,
   "id": "70fb1267-7cc2-4643-801c-1a10d98d0211",
   "metadata": {},
   "outputs": [
    {
     "data": {
      "text/plain": [
       "array([[0.08096458]])"
      ]
     },
     "execution_count": 39,
     "metadata": {},
     "output_type": "execute_result"
    }
   ],
   "source": [
    "#Sanity checks can be done here\n",
    "Y_test[30]"
   ]
  },
  {
   "cell_type": "code",
   "execution_count": 43,
   "id": "f69311f0-c577-4c71-80d0-48c36f473d9d",
   "metadata": {},
   "outputs": [
    {
     "name": "stdout",
     "output_type": "stream",
     "text": [
      "\u001b[1m1/1\u001b[0m \u001b[32m━━━━━━━━━━━━━━━━━━━━\u001b[0m\u001b[37m\u001b[0m \u001b[1m0s\u001b[0m 35ms/step\n"
     ]
    },
    {
     "data": {
      "text/plain": [
       "array([[0.10362418]], dtype=float32)"
      ]
     },
     "execution_count": 43,
     "metadata": {},
     "output_type": "execute_result"
    }
   ],
   "source": [
    "#More sanity checks\n",
    "model.predict(np.array([X_test[30]]))"
   ]
  },
  {
   "cell_type": "markdown",
   "id": "13b81f24-0407-4a64-9e7d-413a5666d382",
   "metadata": {},
   "source": [
    "Decision Tree Regression\n",
    "\n",
    "I know ahead of time that each player's data will have vastly different shapes, so I linear/polynomial/exponential regressions won't do much good.\n",
    "I could do something more complicated like giving each player different order polynomials, but I believe a decision tree regression is the most simple solution\n",
    "\n",
    "Implementation of the decision tree is extremely simple - the one issue is that overfitting will almost certainly happen by default. Unlike previously, the decision tree overfitting on the training data made it unable to recognize the fitting data. To remedy this, minimum samples and maximum depth can be tunes\n",
    "\n",
    "We do have to process the data differently - due to dimensional limits of the regressor, I can no longer include the year the player has been in the league, data that was crucial for deep learning. Furthermore, a good chunk of the R^2 diminishes since the regressor will predict a value other than 0 for the players most recently played season. To accurately show R^2, this is fixed before the calculation. I would un-pad the data beforehand, but to keep context for the regressor from going inbetween players, I have to keep those arrays separated in model fitting."
   ]
  },
  {
   "cell_type": "code",
   "execution_count": 45,
   "id": "8e370c28-cbd6-49c4-986d-0480b5b2d2c2",
   "metadata": {},
   "outputs": [],
   "source": [
    "from sklearn.tree import DecisionTreeRegressor"
   ]
  },
  {
   "cell_type": "code",
   "execution_count": 59,
   "id": "25cab344-3ce8-4388-a793-c5976ff1c1ad",
   "metadata": {},
   "outputs": [],
   "source": [
    "#Separating into X (input) and Y (target) data\n",
    "#Here Y is set to be a year after X so that I can predict the next year based on the current year\n",
    "X = []\n",
    "Y = []\n",
    "i = 0\n",
    "while i < len(player_performance_scaled):\n",
    "    X.append(player_performance_scaled[i:i+20])\n",
    "    Y.append(player_performance_scaled[i+1:i+21])\n",
    "    i = i + 22"
   ]
  },
  {
   "cell_type": "code",
   "execution_count": 61,
   "id": "8cba790d-6c7d-472e-bab1-0b7ca9d5a8b7",
   "metadata": {},
   "outputs": [],
   "source": [
    "# Restructure data to fit a decision tree rather than a NN\n",
    "x = []\n",
    "y = []\n",
    "i = 0\n",
    "while i < len(X):\n",
    "    j = 0\n",
    "    temp = []\n",
    "    temp2 = []\n",
    "    while j < 20:\n",
    "        temp.append(X[i][j][0])\n",
    "        temp2.append(Y[i][j][0])\n",
    "        j = j + 1\n",
    "    i = i + 1\n",
    "    x.append(temp)\n",
    "    y.append(temp2)"
   ]
  },
  {
   "cell_type": "code",
   "execution_count": 62,
   "id": "699e107f-1400-4fd1-9dd4-bee9bfbe3a7a",
   "metadata": {},
   "outputs": [],
   "source": [
    "#Remove NaN\n",
    "i = 0\n",
    "for player in y:\n",
    "    j = 0\n",
    "    for year in player:\n",
    "        if math.isnan(year) == True:\n",
    "            y[i][j] = 0\n",
    "        j = j + 1\n",
    "    i = i + 1\n",
    "i = 0\n",
    "for player in x:\n",
    "    j = 0\n",
    "    for year in player:\n",
    "        if math.isnan(year) == True:\n",
    "            x[i][j] = 0\n",
    "        j = j + 1\n",
    "    i = i + 1"
   ]
  },
  {
   "cell_type": "code",
   "execution_count": 63,
   "id": "61fa61a2-6957-4d51-8bb7-9aee59a46b39",
   "metadata": {},
   "outputs": [],
   "source": [
    "#The last year in a players' career currently teaches the model that \n",
    "#eventually the metric decays to 0\n",
    "#I want growth\n",
    "i = 0\n",
    "while i < len(x):\n",
    "    j = 0\n",
    "    while j < len(x[0]):\n",
    "        if x[i][j] != 0 and y[i][j] == 0:\n",
    "            x[i][j] = 0\n",
    "        j = j + 1\n",
    "    i = i + 1"
   ]
  },
  {
   "cell_type": "code",
   "execution_count": 64,
   "id": "ad4e60c5-d259-4a31-bcae-9c786a02811f",
   "metadata": {},
   "outputs": [],
   "source": [
    "x_1 = []\n",
    "y_1 = []\n",
    "i = 0\n",
    "while i < len(x):\n",
    "    j = 0\n",
    "    while j < len(x[0]):\n",
    "        if x[i][j] == 0:\n",
    "            a = 1\n",
    "        if x[i][j] != 0:\n",
    "            x_1.append([x[i][j],j])\n",
    "            y_1.append(y[i][j])\n",
    "        j = j + 1\n",
    "    i = i + 1"
   ]
  },
  {
   "cell_type": "code",
   "execution_count": 65,
   "id": "0220e50d-4118-44fc-b7ac-5ad7ed44d6ce",
   "metadata": {},
   "outputs": [],
   "source": [
    "#Set up training and testing datasets\n",
    "y = np.array(y).flatten()\n",
    "X_train, X_test, Y_train, Y_test = train_test_split(x_1, y_1, test_size=0.3,shuffle=False)"
   ]
  },
  {
   "cell_type": "code",
   "execution_count": 287,
   "id": "112c2853-761d-4985-a8fe-0f70b13c9b64",
   "metadata": {},
   "outputs": [
    {
     "data": {
      "text/html": [
       "<style>#sk-container-id-21 {\n",
       "  /* Definition of color scheme common for light and dark mode */\n",
       "  --sklearn-color-text: black;\n",
       "  --sklearn-color-line: gray;\n",
       "  /* Definition of color scheme for unfitted estimators */\n",
       "  --sklearn-color-unfitted-level-0: #fff5e6;\n",
       "  --sklearn-color-unfitted-level-1: #f6e4d2;\n",
       "  --sklearn-color-unfitted-level-2: #ffe0b3;\n",
       "  --sklearn-color-unfitted-level-3: chocolate;\n",
       "  /* Definition of color scheme for fitted estimators */\n",
       "  --sklearn-color-fitted-level-0: #f0f8ff;\n",
       "  --sklearn-color-fitted-level-1: #d4ebff;\n",
       "  --sklearn-color-fitted-level-2: #b3dbfd;\n",
       "  --sklearn-color-fitted-level-3: cornflowerblue;\n",
       "\n",
       "  /* Specific color for light theme */\n",
       "  --sklearn-color-text-on-default-background: var(--sg-text-color, var(--theme-code-foreground, var(--jp-content-font-color1, black)));\n",
       "  --sklearn-color-background: var(--sg-background-color, var(--theme-background, var(--jp-layout-color0, white)));\n",
       "  --sklearn-color-border-box: var(--sg-text-color, var(--theme-code-foreground, var(--jp-content-font-color1, black)));\n",
       "  --sklearn-color-icon: #696969;\n",
       "\n",
       "  @media (prefers-color-scheme: dark) {\n",
       "    /* Redefinition of color scheme for dark theme */\n",
       "    --sklearn-color-text-on-default-background: var(--sg-text-color, var(--theme-code-foreground, var(--jp-content-font-color1, white)));\n",
       "    --sklearn-color-background: var(--sg-background-color, var(--theme-background, var(--jp-layout-color0, #111)));\n",
       "    --sklearn-color-border-box: var(--sg-text-color, var(--theme-code-foreground, var(--jp-content-font-color1, white)));\n",
       "    --sklearn-color-icon: #878787;\n",
       "  }\n",
       "}\n",
       "\n",
       "#sk-container-id-21 {\n",
       "  color: var(--sklearn-color-text);\n",
       "}\n",
       "\n",
       "#sk-container-id-21 pre {\n",
       "  padding: 0;\n",
       "}\n",
       "\n",
       "#sk-container-id-21 input.sk-hidden--visually {\n",
       "  border: 0;\n",
       "  clip: rect(1px 1px 1px 1px);\n",
       "  clip: rect(1px, 1px, 1px, 1px);\n",
       "  height: 1px;\n",
       "  margin: -1px;\n",
       "  overflow: hidden;\n",
       "  padding: 0;\n",
       "  position: absolute;\n",
       "  width: 1px;\n",
       "}\n",
       "\n",
       "#sk-container-id-21 div.sk-dashed-wrapped {\n",
       "  border: 1px dashed var(--sklearn-color-line);\n",
       "  margin: 0 0.4em 0.5em 0.4em;\n",
       "  box-sizing: border-box;\n",
       "  padding-bottom: 0.4em;\n",
       "  background-color: var(--sklearn-color-background);\n",
       "}\n",
       "\n",
       "#sk-container-id-21 div.sk-container {\n",
       "  /* jupyter's `normalize.less` sets `[hidden] { display: none; }`\n",
       "     but bootstrap.min.css set `[hidden] { display: none !important; }`\n",
       "     so we also need the `!important` here to be able to override the\n",
       "     default hidden behavior on the sphinx rendered scikit-learn.org.\n",
       "     See: https://github.com/scikit-learn/scikit-learn/issues/21755 */\n",
       "  display: inline-block !important;\n",
       "  position: relative;\n",
       "}\n",
       "\n",
       "#sk-container-id-21 div.sk-text-repr-fallback {\n",
       "  display: none;\n",
       "}\n",
       "\n",
       "div.sk-parallel-item,\n",
       "div.sk-serial,\n",
       "div.sk-item {\n",
       "  /* draw centered vertical line to link estimators */\n",
       "  background-image: linear-gradient(var(--sklearn-color-text-on-default-background), var(--sklearn-color-text-on-default-background));\n",
       "  background-size: 2px 100%;\n",
       "  background-repeat: no-repeat;\n",
       "  background-position: center center;\n",
       "}\n",
       "\n",
       "/* Parallel-specific style estimator block */\n",
       "\n",
       "#sk-container-id-21 div.sk-parallel-item::after {\n",
       "  content: \"\";\n",
       "  width: 100%;\n",
       "  border-bottom: 2px solid var(--sklearn-color-text-on-default-background);\n",
       "  flex-grow: 1;\n",
       "}\n",
       "\n",
       "#sk-container-id-21 div.sk-parallel {\n",
       "  display: flex;\n",
       "  align-items: stretch;\n",
       "  justify-content: center;\n",
       "  background-color: var(--sklearn-color-background);\n",
       "  position: relative;\n",
       "}\n",
       "\n",
       "#sk-container-id-21 div.sk-parallel-item {\n",
       "  display: flex;\n",
       "  flex-direction: column;\n",
       "}\n",
       "\n",
       "#sk-container-id-21 div.sk-parallel-item:first-child::after {\n",
       "  align-self: flex-end;\n",
       "  width: 50%;\n",
       "}\n",
       "\n",
       "#sk-container-id-21 div.sk-parallel-item:last-child::after {\n",
       "  align-self: flex-start;\n",
       "  width: 50%;\n",
       "}\n",
       "\n",
       "#sk-container-id-21 div.sk-parallel-item:only-child::after {\n",
       "  width: 0;\n",
       "}\n",
       "\n",
       "/* Serial-specific style estimator block */\n",
       "\n",
       "#sk-container-id-21 div.sk-serial {\n",
       "  display: flex;\n",
       "  flex-direction: column;\n",
       "  align-items: center;\n",
       "  background-color: var(--sklearn-color-background);\n",
       "  padding-right: 1em;\n",
       "  padding-left: 1em;\n",
       "}\n",
       "\n",
       "\n",
       "/* Toggleable style: style used for estimator/Pipeline/ColumnTransformer box that is\n",
       "clickable and can be expanded/collapsed.\n",
       "- Pipeline and ColumnTransformer use this feature and define the default style\n",
       "- Estimators will overwrite some part of the style using the `sk-estimator` class\n",
       "*/\n",
       "\n",
       "/* Pipeline and ColumnTransformer style (default) */\n",
       "\n",
       "#sk-container-id-21 div.sk-toggleable {\n",
       "  /* Default theme specific background. It is overwritten whether we have a\n",
       "  specific estimator or a Pipeline/ColumnTransformer */\n",
       "  background-color: var(--sklearn-color-background);\n",
       "}\n",
       "\n",
       "/* Toggleable label */\n",
       "#sk-container-id-21 label.sk-toggleable__label {\n",
       "  cursor: pointer;\n",
       "  display: block;\n",
       "  width: 100%;\n",
       "  margin-bottom: 0;\n",
       "  padding: 0.5em;\n",
       "  box-sizing: border-box;\n",
       "  text-align: center;\n",
       "}\n",
       "\n",
       "#sk-container-id-21 label.sk-toggleable__label-arrow:before {\n",
       "  /* Arrow on the left of the label */\n",
       "  content: \"▸\";\n",
       "  float: left;\n",
       "  margin-right: 0.25em;\n",
       "  color: var(--sklearn-color-icon);\n",
       "}\n",
       "\n",
       "#sk-container-id-21 label.sk-toggleable__label-arrow:hover:before {\n",
       "  color: var(--sklearn-color-text);\n",
       "}\n",
       "\n",
       "/* Toggleable content - dropdown */\n",
       "\n",
       "#sk-container-id-21 div.sk-toggleable__content {\n",
       "  max-height: 0;\n",
       "  max-width: 0;\n",
       "  overflow: hidden;\n",
       "  text-align: left;\n",
       "  /* unfitted */\n",
       "  background-color: var(--sklearn-color-unfitted-level-0);\n",
       "}\n",
       "\n",
       "#sk-container-id-21 div.sk-toggleable__content.fitted {\n",
       "  /* fitted */\n",
       "  background-color: var(--sklearn-color-fitted-level-0);\n",
       "}\n",
       "\n",
       "#sk-container-id-21 div.sk-toggleable__content pre {\n",
       "  margin: 0.2em;\n",
       "  border-radius: 0.25em;\n",
       "  color: var(--sklearn-color-text);\n",
       "  /* unfitted */\n",
       "  background-color: var(--sklearn-color-unfitted-level-0);\n",
       "}\n",
       "\n",
       "#sk-container-id-21 div.sk-toggleable__content.fitted pre {\n",
       "  /* unfitted */\n",
       "  background-color: var(--sklearn-color-fitted-level-0);\n",
       "}\n",
       "\n",
       "#sk-container-id-21 input.sk-toggleable__control:checked~div.sk-toggleable__content {\n",
       "  /* Expand drop-down */\n",
       "  max-height: 200px;\n",
       "  max-width: 100%;\n",
       "  overflow: auto;\n",
       "}\n",
       "\n",
       "#sk-container-id-21 input.sk-toggleable__control:checked~label.sk-toggleable__label-arrow:before {\n",
       "  content: \"▾\";\n",
       "}\n",
       "\n",
       "/* Pipeline/ColumnTransformer-specific style */\n",
       "\n",
       "#sk-container-id-21 div.sk-label input.sk-toggleable__control:checked~label.sk-toggleable__label {\n",
       "  color: var(--sklearn-color-text);\n",
       "  background-color: var(--sklearn-color-unfitted-level-2);\n",
       "}\n",
       "\n",
       "#sk-container-id-21 div.sk-label.fitted input.sk-toggleable__control:checked~label.sk-toggleable__label {\n",
       "  background-color: var(--sklearn-color-fitted-level-2);\n",
       "}\n",
       "\n",
       "/* Estimator-specific style */\n",
       "\n",
       "/* Colorize estimator box */\n",
       "#sk-container-id-21 div.sk-estimator input.sk-toggleable__control:checked~label.sk-toggleable__label {\n",
       "  /* unfitted */\n",
       "  background-color: var(--sklearn-color-unfitted-level-2);\n",
       "}\n",
       "\n",
       "#sk-container-id-21 div.sk-estimator.fitted input.sk-toggleable__control:checked~label.sk-toggleable__label {\n",
       "  /* fitted */\n",
       "  background-color: var(--sklearn-color-fitted-level-2);\n",
       "}\n",
       "\n",
       "#sk-container-id-21 div.sk-label label.sk-toggleable__label,\n",
       "#sk-container-id-21 div.sk-label label {\n",
       "  /* The background is the default theme color */\n",
       "  color: var(--sklearn-color-text-on-default-background);\n",
       "}\n",
       "\n",
       "/* On hover, darken the color of the background */\n",
       "#sk-container-id-21 div.sk-label:hover label.sk-toggleable__label {\n",
       "  color: var(--sklearn-color-text);\n",
       "  background-color: var(--sklearn-color-unfitted-level-2);\n",
       "}\n",
       "\n",
       "/* Label box, darken color on hover, fitted */\n",
       "#sk-container-id-21 div.sk-label.fitted:hover label.sk-toggleable__label.fitted {\n",
       "  color: var(--sklearn-color-text);\n",
       "  background-color: var(--sklearn-color-fitted-level-2);\n",
       "}\n",
       "\n",
       "/* Estimator label */\n",
       "\n",
       "#sk-container-id-21 div.sk-label label {\n",
       "  font-family: monospace;\n",
       "  font-weight: bold;\n",
       "  display: inline-block;\n",
       "  line-height: 1.2em;\n",
       "}\n",
       "\n",
       "#sk-container-id-21 div.sk-label-container {\n",
       "  text-align: center;\n",
       "}\n",
       "\n",
       "/* Estimator-specific */\n",
       "#sk-container-id-21 div.sk-estimator {\n",
       "  font-family: monospace;\n",
       "  border: 1px dotted var(--sklearn-color-border-box);\n",
       "  border-radius: 0.25em;\n",
       "  box-sizing: border-box;\n",
       "  margin-bottom: 0.5em;\n",
       "  /* unfitted */\n",
       "  background-color: var(--sklearn-color-unfitted-level-0);\n",
       "}\n",
       "\n",
       "#sk-container-id-21 div.sk-estimator.fitted {\n",
       "  /* fitted */\n",
       "  background-color: var(--sklearn-color-fitted-level-0);\n",
       "}\n",
       "\n",
       "/* on hover */\n",
       "#sk-container-id-21 div.sk-estimator:hover {\n",
       "  /* unfitted */\n",
       "  background-color: var(--sklearn-color-unfitted-level-2);\n",
       "}\n",
       "\n",
       "#sk-container-id-21 div.sk-estimator.fitted:hover {\n",
       "  /* fitted */\n",
       "  background-color: var(--sklearn-color-fitted-level-2);\n",
       "}\n",
       "\n",
       "/* Specification for estimator info (e.g. \"i\" and \"?\") */\n",
       "\n",
       "/* Common style for \"i\" and \"?\" */\n",
       "\n",
       ".sk-estimator-doc-link,\n",
       "a:link.sk-estimator-doc-link,\n",
       "a:visited.sk-estimator-doc-link {\n",
       "  float: right;\n",
       "  font-size: smaller;\n",
       "  line-height: 1em;\n",
       "  font-family: monospace;\n",
       "  background-color: var(--sklearn-color-background);\n",
       "  border-radius: 1em;\n",
       "  height: 1em;\n",
       "  width: 1em;\n",
       "  text-decoration: none !important;\n",
       "  margin-left: 1ex;\n",
       "  /* unfitted */\n",
       "  border: var(--sklearn-color-unfitted-level-1) 1pt solid;\n",
       "  color: var(--sklearn-color-unfitted-level-1);\n",
       "}\n",
       "\n",
       ".sk-estimator-doc-link.fitted,\n",
       "a:link.sk-estimator-doc-link.fitted,\n",
       "a:visited.sk-estimator-doc-link.fitted {\n",
       "  /* fitted */\n",
       "  border: var(--sklearn-color-fitted-level-1) 1pt solid;\n",
       "  color: var(--sklearn-color-fitted-level-1);\n",
       "}\n",
       "\n",
       "/* On hover */\n",
       "div.sk-estimator:hover .sk-estimator-doc-link:hover,\n",
       ".sk-estimator-doc-link:hover,\n",
       "div.sk-label-container:hover .sk-estimator-doc-link:hover,\n",
       ".sk-estimator-doc-link:hover {\n",
       "  /* unfitted */\n",
       "  background-color: var(--sklearn-color-unfitted-level-3);\n",
       "  color: var(--sklearn-color-background);\n",
       "  text-decoration: none;\n",
       "}\n",
       "\n",
       "div.sk-estimator.fitted:hover .sk-estimator-doc-link.fitted:hover,\n",
       ".sk-estimator-doc-link.fitted:hover,\n",
       "div.sk-label-container:hover .sk-estimator-doc-link.fitted:hover,\n",
       ".sk-estimator-doc-link.fitted:hover {\n",
       "  /* fitted */\n",
       "  background-color: var(--sklearn-color-fitted-level-3);\n",
       "  color: var(--sklearn-color-background);\n",
       "  text-decoration: none;\n",
       "}\n",
       "\n",
       "/* Span, style for the box shown on hovering the info icon */\n",
       ".sk-estimator-doc-link span {\n",
       "  display: none;\n",
       "  z-index: 9999;\n",
       "  position: relative;\n",
       "  font-weight: normal;\n",
       "  right: .2ex;\n",
       "  padding: .5ex;\n",
       "  margin: .5ex;\n",
       "  width: min-content;\n",
       "  min-width: 20ex;\n",
       "  max-width: 50ex;\n",
       "  color: var(--sklearn-color-text);\n",
       "  box-shadow: 2pt 2pt 4pt #999;\n",
       "  /* unfitted */\n",
       "  background: var(--sklearn-color-unfitted-level-0);\n",
       "  border: .5pt solid var(--sklearn-color-unfitted-level-3);\n",
       "}\n",
       "\n",
       ".sk-estimator-doc-link.fitted span {\n",
       "  /* fitted */\n",
       "  background: var(--sklearn-color-fitted-level-0);\n",
       "  border: var(--sklearn-color-fitted-level-3);\n",
       "}\n",
       "\n",
       ".sk-estimator-doc-link:hover span {\n",
       "  display: block;\n",
       "}\n",
       "\n",
       "/* \"?\"-specific style due to the `<a>` HTML tag */\n",
       "\n",
       "#sk-container-id-21 a.estimator_doc_link {\n",
       "  float: right;\n",
       "  font-size: 1rem;\n",
       "  line-height: 1em;\n",
       "  font-family: monospace;\n",
       "  background-color: var(--sklearn-color-background);\n",
       "  border-radius: 1rem;\n",
       "  height: 1rem;\n",
       "  width: 1rem;\n",
       "  text-decoration: none;\n",
       "  /* unfitted */\n",
       "  color: var(--sklearn-color-unfitted-level-1);\n",
       "  border: var(--sklearn-color-unfitted-level-1) 1pt solid;\n",
       "}\n",
       "\n",
       "#sk-container-id-21 a.estimator_doc_link.fitted {\n",
       "  /* fitted */\n",
       "  border: var(--sklearn-color-fitted-level-1) 1pt solid;\n",
       "  color: var(--sklearn-color-fitted-level-1);\n",
       "}\n",
       "\n",
       "/* On hover */\n",
       "#sk-container-id-21 a.estimator_doc_link:hover {\n",
       "  /* unfitted */\n",
       "  background-color: var(--sklearn-color-unfitted-level-3);\n",
       "  color: var(--sklearn-color-background);\n",
       "  text-decoration: none;\n",
       "}\n",
       "\n",
       "#sk-container-id-21 a.estimator_doc_link.fitted:hover {\n",
       "  /* fitted */\n",
       "  background-color: var(--sklearn-color-fitted-level-3);\n",
       "}\n",
       "</style><div id=\"sk-container-id-21\" class=\"sk-top-container\"><div class=\"sk-text-repr-fallback\"><pre>DecisionTreeRegressor(max_depth=3, min_samples_leaf=17, random_state=0)</pre><b>In a Jupyter environment, please rerun this cell to show the HTML representation or trust the notebook. <br />On GitHub, the HTML representation is unable to render, please try loading this page with nbviewer.org.</b></div><div class=\"sk-container\" hidden><div class=\"sk-item\"><div class=\"sk-estimator fitted sk-toggleable\"><input class=\"sk-toggleable__control sk-hidden--visually\" id=\"sk-estimator-id-21\" type=\"checkbox\" checked><label for=\"sk-estimator-id-21\" class=\"sk-toggleable__label fitted sk-toggleable__label-arrow fitted\">&nbsp;&nbsp;DecisionTreeRegressor<a class=\"sk-estimator-doc-link fitted\" rel=\"noreferrer\" target=\"_blank\" href=\"https://scikit-learn.org/1.5/modules/generated/sklearn.tree.DecisionTreeRegressor.html\">?<span>Documentation for DecisionTreeRegressor</span></a><span class=\"sk-estimator-doc-link fitted\">i<span>Fitted</span></span></label><div class=\"sk-toggleable__content fitted\"><pre>DecisionTreeRegressor(max_depth=3, min_samples_leaf=17, random_state=0)</pre></div> </div></div></div></div>"
      ],
      "text/plain": [
       "DecisionTreeRegressor(max_depth=3, min_samples_leaf=17, random_state=0)"
      ]
     },
     "execution_count": 287,
     "metadata": {},
     "output_type": "execute_result"
    }
   ],
   "source": [
    "#Create the regressor\n",
    "regressor = DecisionTreeRegressor(random_state = 0, min_samples_leaf=17, max_depth=3)  \n",
    "\n",
    "# fit the regressor with X and Y data \n",
    "regressor.fit(X_train, Y_train) "
   ]
  },
  {
   "cell_type": "code",
   "execution_count": 288,
   "id": "e768faa9-9179-4382-81df-79d89e0b0dc9",
   "metadata": {},
   "outputs": [],
   "source": [
    "# Create two predictions, one to check fitting on training data and one for testing data\n",
    "from sklearn.metrics import mean_squared_error as MSE\n",
    "predicts_train = regressor.predict(X_train)\n",
    "predicts_test = regressor.predict(X_test)"
   ]
  },
  {
   "cell_type": "code",
   "execution_count": 289,
   "id": "16f855c1-cccd-4f2a-b6fb-19ee02ee37eb",
   "metadata": {},
   "outputs": [
    {
     "name": "stdout",
     "output_type": "stream",
     "text": [
      "0.0004624632669625055\n",
      "0.0016607742172230265\n",
      "0.6635539138620978\n",
      "0.554018410402451\n"
     ]
    }
   ],
   "source": [
    "#Error Analysis between test and train datasets\n",
    "print(MSE(Y_test, predicts_test))\n",
    "print(MSE(Y_train, predicts_train))\n",
    "print(sklearn.metrics.r2_score(Y_train, predicts_train))\n",
    "print(sklearn.metrics.r2_score(Y_test, predicts_test))"
   ]
  },
  {
   "cell_type": "code",
   "execution_count": 290,
   "id": "d0360421-724c-43ee-8099-534e7b86dfcf",
   "metadata": {},
   "outputs": [],
   "source": [
    "import matplotlib.pyplot as plt"
   ]
  },
  {
   "cell_type": "code",
   "execution_count": 282,
   "id": "15dff282-76b1-4594-9939-08f285eddadc",
   "metadata": {},
   "outputs": [
    {
     "data": {
      "text/plain": [
       "<matplotlib.collections.PathCollection at 0x1d947a33920>"
      ]
     },
     "execution_count": 282,
     "metadata": {},
     "output_type": "execute_result"
    },
    {
     "data": {
      "image/png": "[encoded data removed]",
      "text/plain": [
       "<Figure size 640x480 with 1 Axes>"
      ]
     },
     "metadata": {},
     "output_type": "display_data"
    }
   ],
   "source": [
    "#Visualize results\n",
    "plt.scatter(Y_test,predicts_test)"
   ]
  },
  {
   "cell_type": "code",
   "execution_count": 178,
   "id": "37fd55be-c006-4254-b4b8-a912470f3aed",
   "metadata": {},
   "outputs": [
    {
     "data": {
      "text/plain": [
       "0.08096457825391638"
      ]
     },
     "execution_count": 178,
     "metadata": {},
     "output_type": "execute_result"
    }
   ],
   "source": [
    "#Sanity checks can be done here\n",
    "Y_test[30]"
   ]
  },
  {
   "cell_type": "code",
   "execution_count": 179,
   "id": "1f25ea40-9f2e-43f4-a520-331420cda086",
   "metadata": {},
   "outputs": [
    {
     "name": "stdout",
     "output_type": "stream",
     "text": [
      "\u001b[1m1/1\u001b[0m \u001b[32m━━━━━━━━━━━━━━━━━━━━\u001b[0m\u001b[37m\u001b[0m \u001b[1m0s\u001b[0m 39ms/step\n"
     ]
    },
    {
     "data": {
      "text/plain": [
       "array([[0.04723741]], dtype=float32)"
      ]
     },
     "execution_count": 179,
     "metadata": {},
     "output_type": "execute_result"
    }
   ],
   "source": [
    "#More sanity checks\n",
    "model.predict(np.array([X_test[30]]))"
   ]
  },
  {
   "cell_type": "markdown",
   "id": "47abb49d-e4fd-408d-a613-49d391afd219",
   "metadata": {},
   "source": [
    "XGBoost Method"
   ]
  },
  {
   "cell_type": "code",
   "execution_count": 295,
   "id": "13ea974d-6b1c-4b6a-b17f-3998b3bdfb68",
   "metadata": {},
   "outputs": [],
   "source": [
    "#import libraries\n",
    "from sklearn.ensemble import GradientBoostingRegressor\n",
    "import sklearn"
   ]
  },
  {
   "cell_type": "code",
   "execution_count": 297,
   "id": "3e1722f5-dac1-4329-aa66-671977c7c99b",
   "metadata": {},
   "outputs": [],
   "source": [
    "#set parameters\n",
    "params = {\n",
    "    \"n_estimators\": 2000,\n",
    "    \"max_depth\": 5,\n",
    "    \"learning_rate\": 0.001,\n",
    "    \"loss\": \"squared_error\",\n",
    "    \"subsample\": 1.0,\n",
    "}"
   ]
  },
  {
   "cell_type": "code",
   "execution_count": 298,
   "id": "975ee0b3-a6d1-4542-9726-48dd76bb33a9",
   "metadata": {},
   "outputs": [],
   "source": [
    "#Build test and train data\n",
    "X_train, X_test, Y_train, Y_test = train_test_split(x_1, y_1, test_size=0.3,shuffle=False)"
   ]
  },
  {
   "cell_type": "code",
   "execution_count": 299,
   "id": "6da030ea-0d05-45ee-a5e8-90ce023a748e",
   "metadata": {},
   "outputs": [
    {
     "data": {
      "text/html": [
       "<style>#sk-container-id-22 {\n",
       "  /* Definition of color scheme common for light and dark mode */\n",
       "  --sklearn-color-text: black;\n",
       "  --sklearn-color-line: gray;\n",
       "  /* Definition of color scheme for unfitted estimators */\n",
       "  --sklearn-color-unfitted-level-0: #fff5e6;\n",
       "  --sklearn-color-unfitted-level-1: #f6e4d2;\n",
       "  --sklearn-color-unfitted-level-2: #ffe0b3;\n",
       "  --sklearn-color-unfitted-level-3: chocolate;\n",
       "  /* Definition of color scheme for fitted estimators */\n",
       "  --sklearn-color-fitted-level-0: #f0f8ff;\n",
       "  --sklearn-color-fitted-level-1: #d4ebff;\n",
       "  --sklearn-color-fitted-level-2: #b3dbfd;\n",
       "  --sklearn-color-fitted-level-3: cornflowerblue;\n",
       "\n",
       "  /* Specific color for light theme */\n",
       "  --sklearn-color-text-on-default-background: var(--sg-text-color, var(--theme-code-foreground, var(--jp-content-font-color1, black)));\n",
       "  --sklearn-color-background: var(--sg-background-color, var(--theme-background, var(--jp-layout-color0, white)));\n",
       "  --sklearn-color-border-box: var(--sg-text-color, var(--theme-code-foreground, var(--jp-content-font-color1, black)));\n",
       "  --sklearn-color-icon: #696969;\n",
       "\n",
       "  @media (prefers-color-scheme: dark) {\n",
       "    /* Redefinition of color scheme for dark theme */\n",
       "    --sklearn-color-text-on-default-background: var(--sg-text-color, var(--theme-code-foreground, var(--jp-content-font-color1, white)));\n",
       "    --sklearn-color-background: var(--sg-background-color, var(--theme-background, var(--jp-layout-color0, #111)));\n",
       "    --sklearn-color-border-box: var(--sg-text-color, var(--theme-code-foreground, var(--jp-content-font-color1, white)));\n",
       "    --sklearn-color-icon: #878787;\n",
       "  }\n",
       "}\n",
       "\n",
       "#sk-container-id-22 {\n",
       "  color: var(--sklearn-color-text);\n",
       "}\n",
       "\n",
       "#sk-container-id-22 pre {\n",
       "  padding: 0;\n",
       "}\n",
       "\n",
       "#sk-container-id-22 input.sk-hidden--visually {\n",
       "  border: 0;\n",
       "  clip: rect(1px 1px 1px 1px);\n",
       "  clip: rect(1px, 1px, 1px, 1px);\n",
       "  height: 1px;\n",
       "  margin: -1px;\n",
       "  overflow: hidden;\n",
       "  padding: 0;\n",
       "  position: absolute;\n",
       "  width: 1px;\n",
       "}\n",
       "\n",
       "#sk-container-id-22 div.sk-dashed-wrapped {\n",
       "  border: 1px dashed var(--sklearn-color-line);\n",
       "  margin: 0 0.4em 0.5em 0.4em;\n",
       "  box-sizing: border-box;\n",
       "  padding-bottom: 0.4em;\n",
       "  background-color: var(--sklearn-color-background);\n",
       "}\n",
       "\n",
       "#sk-container-id-22 div.sk-container {\n",
       "  /* jupyter's `normalize.less` sets `[hidden] { display: none; }`\n",
       "     but bootstrap.min.css set `[hidden] { display: none !important; }`\n",
       "     so we also need the `!important` here to be able to override the\n",
       "     default hidden behavior on the sphinx rendered scikit-learn.org.\n",
       "     See: https://github.com/scikit-learn/scikit-learn/issues/21755 */\n",
       "  display: inline-block !important;\n",
       "  position: relative;\n",
       "}\n",
       "\n",
       "#sk-container-id-22 div.sk-text-repr-fallback {\n",
       "  display: none;\n",
       "}\n",
       "\n",
       "div.sk-parallel-item,\n",
       "div.sk-serial,\n",
       "div.sk-item {\n",
       "  /* draw centered vertical line to link estimators */\n",
       "  background-image: linear-gradient(var(--sklearn-color-text-on-default-background), var(--sklearn-color-text-on-default-background));\n",
       "  background-size: 2px 100%;\n",
       "  background-repeat: no-repeat;\n",
       "  background-position: center center;\n",
       "}\n",
       "\n",
       "/* Parallel-specific style estimator block */\n",
       "\n",
       "#sk-container-id-22 div.sk-parallel-item::after {\n",
       "  content: \"\";\n",
       "  width: 100%;\n",
       "  border-bottom: 2px solid var(--sklearn-color-text-on-default-background);\n",
       "  flex-grow: 1;\n",
       "}\n",
       "\n",
       "#sk-container-id-22 div.sk-parallel {\n",
       "  display: flex;\n",
       "  align-items: stretch;\n",
       "  justify-content: center;\n",
       "  background-color: var(--sklearn-color-background);\n",
       "  position: relative;\n",
       "}\n",
       "\n",
       "#sk-container-id-22 div.sk-parallel-item {\n",
       "  display: flex;\n",
       "  flex-direction: column;\n",
       "}\n",
       "\n",
       "#sk-container-id-22 div.sk-parallel-item:first-child::after {\n",
       "  align-self: flex-end;\n",
       "  width: 50%;\n",
       "}\n",
       "\n",
       "#sk-container-id-22 div.sk-parallel-item:last-child::after {\n",
       "  align-self: flex-start;\n",
       "  width: 50%;\n",
       "}\n",
       "\n",
       "#sk-container-id-22 div.sk-parallel-item:only-child::after {\n",
       "  width: 0;\n",
       "}\n",
       "\n",
       "/* Serial-specific style estimator block */\n",
       "\n",
       "#sk-container-id-22 div.sk-serial {\n",
       "  display: flex;\n",
       "  flex-direction: column;\n",
       "  align-items: center;\n",
       "  background-color: var(--sklearn-color-background);\n",
       "  padding-right: 1em;\n",
       "  padding-left: 1em;\n",
       "}\n",
       "\n",
       "\n",
       "/* Toggleable style: style used for estimator/Pipeline/ColumnTransformer box that is\n",
       "clickable and can be expanded/collapsed.\n",
       "- Pipeline and ColumnTransformer use this feature and define the default style\n",
       "- Estimators will overwrite some part of the style using the `sk-estimator` class\n",
       "*/\n",
       "\n",
       "/* Pipeline and ColumnTransformer style (default) */\n",
       "\n",
       "#sk-container-id-22 div.sk-toggleable {\n",
       "  /* Default theme specific background. It is overwritten whether we have a\n",
       "  specific estimator or a Pipeline/ColumnTransformer */\n",
       "  background-color: var(--sklearn-color-background);\n",
       "}\n",
       "\n",
       "/* Toggleable label */\n",
       "#sk-container-id-22 label.sk-toggleable__label {\n",
       "  cursor: pointer;\n",
       "  display: block;\n",
       "  width: 100%;\n",
       "  margin-bottom: 0;\n",
       "  padding: 0.5em;\n",
       "  box-sizing: border-box;\n",
       "  text-align: center;\n",
       "}\n",
       "\n",
       "#sk-container-id-22 label.sk-toggleable__label-arrow:before {\n",
       "  /* Arrow on the left of the label */\n",
       "  content: \"▸\";\n",
       "  float: left;\n",
       "  margin-right: 0.25em;\n",
       "  color: var(--sklearn-color-icon);\n",
       "}\n",
       "\n",
       "#sk-container-id-22 label.sk-toggleable__label-arrow:hover:before {\n",
       "  color: var(--sklearn-color-text);\n",
       "}\n",
       "\n",
       "/* Toggleable content - dropdown */\n",
       "\n",
       "#sk-container-id-22 div.sk-toggleable__content {\n",
       "  max-height: 0;\n",
       "  max-width: 0;\n",
       "  overflow: hidden;\n",
       "  text-align: left;\n",
       "  /* unfitted */\n",
       "  background-color: var(--sklearn-color-unfitted-level-0);\n",
       "}\n",
       "\n",
       "#sk-container-id-22 div.sk-toggleable__content.fitted {\n",
       "  /* fitted */\n",
       "  background-color: var(--sklearn-color-fitted-level-0);\n",
       "}\n",
       "\n",
       "#sk-container-id-22 div.sk-toggleable__content pre {\n",
       "  margin: 0.2em;\n",
       "  border-radius: 0.25em;\n",
       "  color: var(--sklearn-color-text);\n",
       "  /* unfitted */\n",
       "  background-color: var(--sklearn-color-unfitted-level-0);\n",
       "}\n",
       "\n",
       "#sk-container-id-22 div.sk-toggleable__content.fitted pre {\n",
       "  /* unfitted */\n",
       "  background-color: var(--sklearn-color-fitted-level-0);\n",
       "}\n",
       "\n",
       "#sk-container-id-22 input.sk-toggleable__control:checked~div.sk-toggleable__content {\n",
       "  /* Expand drop-down */\n",
       "  max-height: 200px;\n",
       "  max-width: 100%;\n",
       "  overflow: auto;\n",
       "}\n",
       "\n",
       "#sk-container-id-22 input.sk-toggleable__control:checked~label.sk-toggleable__label-arrow:before {\n",
       "  content: \"▾\";\n",
       "}\n",
       "\n",
       "/* Pipeline/ColumnTransformer-specific style */\n",
       "\n",
       "#sk-container-id-22 div.sk-label input.sk-toggleable__control:checked~label.sk-toggleable__label {\n",
       "  color: var(--sklearn-color-text);\n",
       "  background-color: var(--sklearn-color-unfitted-level-2);\n",
       "}\n",
       "\n",
       "#sk-container-id-22 div.sk-label.fitted input.sk-toggleable__control:checked~label.sk-toggleable__label {\n",
       "  background-color: var(--sklearn-color-fitted-level-2);\n",
       "}\n",
       "\n",
       "/* Estimator-specific style */\n",
       "\n",
       "/* Colorize estimator box */\n",
       "#sk-container-id-22 div.sk-estimator input.sk-toggleable__control:checked~label.sk-toggleable__label {\n",
       "  /* unfitted */\n",
       "  background-color: var(--sklearn-color-unfitted-level-2);\n",
       "}\n",
       "\n",
       "#sk-container-id-22 div.sk-estimator.fitted input.sk-toggleable__control:checked~label.sk-toggleable__label {\n",
       "  /* fitted */\n",
       "  background-color: var(--sklearn-color-fitted-level-2);\n",
       "}\n",
       "\n",
       "#sk-container-id-22 div.sk-label label.sk-toggleable__label,\n",
       "#sk-container-id-22 div.sk-label label {\n",
       "  /* The background is the default theme color */\n",
       "  color: var(--sklearn-color-text-on-default-background);\n",
       "}\n",
       "\n",
       "/* On hover, darken the color of the background */\n",
       "#sk-container-id-22 div.sk-label:hover label.sk-toggleable__label {\n",
       "  color: var(--sklearn-color-text);\n",
       "  background-color: var(--sklearn-color-unfitted-level-2);\n",
       "}\n",
       "\n",
       "/* Label box, darken color on hover, fitted */\n",
       "#sk-container-id-22 div.sk-label.fitted:hover label.sk-toggleable__label.fitted {\n",
       "  color: var(--sklearn-color-text);\n",
       "  background-color: var(--sklearn-color-fitted-level-2);\n",
       "}\n",
       "\n",
       "/* Estimator label */\n",
       "\n",
       "#sk-container-id-22 div.sk-label label {\n",
       "  font-family: monospace;\n",
       "  font-weight: bold;\n",
       "  display: inline-block;\n",
       "  line-height: 1.2em;\n",
       "}\n",
       "\n",
       "#sk-container-id-22 div.sk-label-container {\n",
       "  text-align: center;\n",
       "}\n",
       "\n",
       "/* Estimator-specific */\n",
       "#sk-container-id-22 div.sk-estimator {\n",
       "  font-family: monospace;\n",
       "  border: 1px dotted var(--sklearn-color-border-box);\n",
       "  border-radius: 0.25em;\n",
       "  box-sizing: border-box;\n",
       "  margin-bottom: 0.5em;\n",
       "  /* unfitted */\n",
       "  background-color: var(--sklearn-color-unfitted-level-0);\n",
       "}\n",
       "\n",
       "#sk-container-id-22 div.sk-estimator.fitted {\n",
       "  /* fitted */\n",
       "  background-color: var(--sklearn-color-fitted-level-0);\n",
       "}\n",
       "\n",
       "/* on hover */\n",
       "#sk-container-id-22 div.sk-estimator:hover {\n",
       "  /* unfitted */\n",
       "  background-color: var(--sklearn-color-unfitted-level-2);\n",
       "}\n",
       "\n",
       "#sk-container-id-22 div.sk-estimator.fitted:hover {\n",
       "  /* fitted */\n",
       "  background-color: var(--sklearn-color-fitted-level-2);\n",
       "}\n",
       "\n",
       "/* Specification for estimator info (e.g. \"i\" and \"?\") */\n",
       "\n",
       "/* Common style for \"i\" and \"?\" */\n",
       "\n",
       ".sk-estimator-doc-link,\n",
       "a:link.sk-estimator-doc-link,\n",
       "a:visited.sk-estimator-doc-link {\n",
       "  float: right;\n",
       "  font-size: smaller;\n",
       "  line-height: 1em;\n",
       "  font-family: monospace;\n",
       "  background-color: var(--sklearn-color-background);\n",
       "  border-radius: 1em;\n",
       "  height: 1em;\n",
       "  width: 1em;\n",
       "  text-decoration: none !important;\n",
       "  margin-left: 1ex;\n",
       "  /* unfitted */\n",
       "  border: var(--sklearn-color-unfitted-level-1) 1pt solid;\n",
       "  color: var(--sklearn-color-unfitted-level-1);\n",
       "}\n",
       "\n",
       ".sk-estimator-doc-link.fitted,\n",
       "a:link.sk-estimator-doc-link.fitted,\n",
       "a:visited.sk-estimator-doc-link.fitted {\n",
       "  /* fitted */\n",
       "  border: var(--sklearn-color-fitted-level-1) 1pt solid;\n",
       "  color: var(--sklearn-color-fitted-level-1);\n",
       "}\n",
       "\n",
       "/* On hover */\n",
       "div.sk-estimator:hover .sk-estimator-doc-link:hover,\n",
       ".sk-estimator-doc-link:hover,\n",
       "div.sk-label-container:hover .sk-estimator-doc-link:hover,\n",
       ".sk-estimator-doc-link:hover {\n",
       "  /* unfitted */\n",
       "  background-color: var(--sklearn-color-unfitted-level-3);\n",
       "  color: var(--sklearn-color-background);\n",
       "  text-decoration: none;\n",
       "}\n",
       "\n",
       "div.sk-estimator.fitted:hover .sk-estimator-doc-link.fitted:hover,\n",
       ".sk-estimator-doc-link.fitted:hover,\n",
       "div.sk-label-container:hover .sk-estimator-doc-link.fitted:hover,\n",
       ".sk-estimator-doc-link.fitted:hover {\n",
       "  /* fitted */\n",
       "  background-color: var(--sklearn-color-fitted-level-3);\n",
       "  color: var(--sklearn-color-background);\n",
       "  text-decoration: none;\n",
       "}\n",
       "\n",
       "/* Span, style for the box shown on hovering the info icon */\n",
       ".sk-estimator-doc-link span {\n",
       "  display: none;\n",
       "  z-index: 9999;\n",
       "  position: relative;\n",
       "  font-weight: normal;\n",
       "  right: .2ex;\n",
       "  padding: .5ex;\n",
       "  margin: .5ex;\n",
       "  width: min-content;\n",
       "  min-width: 20ex;\n",
       "  max-width: 50ex;\n",
       "  color: var(--sklearn-color-text);\n",
       "  box-shadow: 2pt 2pt 4pt #999;\n",
       "  /* unfitted */\n",
       "  background: var(--sklearn-color-unfitted-level-0);\n",
       "  border: .5pt solid var(--sklearn-color-unfitted-level-3);\n",
       "}\n",
       "\n",
       ".sk-estimator-doc-link.fitted span {\n",
       "  /* fitted */\n",
       "  background: var(--sklearn-color-fitted-level-0);\n",
       "  border: var(--sklearn-color-fitted-level-3);\n",
       "}\n",
       "\n",
       ".sk-estimator-doc-link:hover span {\n",
       "  display: block;\n",
       "}\n",
       "\n",
       "/* \"?\"-specific style due to the `<a>` HTML tag */\n",
       "\n",
       "#sk-container-id-22 a.estimator_doc_link {\n",
       "  float: right;\n",
       "  font-size: 1rem;\n",
       "  line-height: 1em;\n",
       "  font-family: monospace;\n",
       "  background-color: var(--sklearn-color-background);\n",
       "  border-radius: 1rem;\n",
       "  height: 1rem;\n",
       "  width: 1rem;\n",
       "  text-decoration: none;\n",
       "  /* unfitted */\n",
       "  color: var(--sklearn-color-unfitted-level-1);\n",
       "  border: var(--sklearn-color-unfitted-level-1) 1pt solid;\n",
       "}\n",
       "\n",
       "#sk-container-id-22 a.estimator_doc_link.fitted {\n",
       "  /* fitted */\n",
       "  border: var(--sklearn-color-fitted-level-1) 1pt solid;\n",
       "  color: var(--sklearn-color-fitted-level-1);\n",
       "}\n",
       "\n",
       "/* On hover */\n",
       "#sk-container-id-22 a.estimator_doc_link:hover {\n",
       "  /* unfitted */\n",
       "  background-color: var(--sklearn-color-unfitted-level-3);\n",
       "  color: var(--sklearn-color-background);\n",
       "  text-decoration: none;\n",
       "}\n",
       "\n",
       "#sk-container-id-22 a.estimator_doc_link.fitted:hover {\n",
       "  /* fitted */\n",
       "  background-color: var(--sklearn-color-fitted-level-3);\n",
       "}\n",
       "</style><div id=\"sk-container-id-22\" class=\"sk-top-container\"><div class=\"sk-text-repr-fallback\"><pre>GradientBoostingRegressor(learning_rate=0.001, max_depth=5, n_estimators=2000)</pre><b>In a Jupyter environment, please rerun this cell to show the HTML representation or trust the notebook. <br />On GitHub, the HTML representation is unable to render, please try loading this page with nbviewer.org.</b></div><div class=\"sk-container\" hidden><div class=\"sk-item\"><div class=\"sk-estimator fitted sk-toggleable\"><input class=\"sk-toggleable__control sk-hidden--visually\" id=\"sk-estimator-id-22\" type=\"checkbox\" checked><label for=\"sk-estimator-id-22\" class=\"sk-toggleable__label fitted sk-toggleable__label-arrow fitted\">&nbsp;&nbsp;GradientBoostingRegressor<a class=\"sk-estimator-doc-link fitted\" rel=\"noreferrer\" target=\"_blank\" href=\"https://scikit-learn.org/1.5/modules/generated/sklearn.ensemble.GradientBoostingRegressor.html\">?<span>Documentation for GradientBoostingRegressor</span></a><span class=\"sk-estimator-doc-link fitted\">i<span>Fitted</span></span></label><div class=\"sk-toggleable__content fitted\"><pre>GradientBoostingRegressor(learning_rate=0.001, max_depth=5, n_estimators=2000)</pre></div> </div></div></div></div>"
      ],
      "text/plain": [
       "GradientBoostingRegressor(learning_rate=0.001, max_depth=5, n_estimators=2000)"
      ]
     },
     "execution_count": 299,
     "metadata": {},
     "output_type": "execute_result"
    }
   ],
   "source": [
    "#Make regressor\n",
    "regressor = GradientBoostingRegressor(**params)\n",
    "#Y_train = np.array(Y_train).flatten()\n",
    "#X_train = np.array(X_train).flatten()\n",
    "regressor.fit(X_train, Y_train)"
   ]
  },
  {
   "cell_type": "code",
   "execution_count": 300,
   "id": "92f0b1c7-42b2-41fe-9f95-53d438f0890d",
   "metadata": {},
   "outputs": [],
   "source": [
    "# Create two predictions, one to check fitting on training data and one for testing data\n",
    "from sklearn.metrics import mean_squared_error as MSE\n",
    "predicts_train = regressor.predict(X_train)\n",
    "predicts_test = regressor.predict(X_test)"
   ]
  },
  {
   "cell_type": "code",
   "execution_count": 301,
   "id": "e40a7078-ed39-40fc-a038-f96f511fa717",
   "metadata": {},
   "outputs": [
    {
     "name": "stdout",
     "output_type": "stream",
     "text": [
      "0.00039158112924540003\n",
      "0.001456970812203695\n",
      "0.7048411985810198\n",
      "0.6223743874312386\n"
     ]
    }
   ],
   "source": [
    "#Print error\n",
    "print(MSE(Y_test, predicts_test))\n",
    "print(MSE(Y_train, predicts_train))\n",
    "print(sklearn.metrics.r2_score(Y_train, predicts_train))\n",
    "print(sklearn.metrics.r2_score(Y_test, predicts_test))"
   ]
  },
  {
   "cell_type": "code",
   "execution_count": 302,
   "id": "fc11355b-81c0-4022-a503-87bcb45cd353",
   "metadata": {},
   "outputs": [
    {
     "data": {
      "text/plain": [
       "<matplotlib.collections.PathCollection at 0x1d947a6ffe0>"
      ]
     },
     "execution_count": 302,
     "metadata": {},
     "output_type": "execute_result"
    },
    {
     "data": {
      "image/png": "[encoded data removed]",
      "text/plain": [
       "<Figure size 640x480 with 1 Axes>"
      ]
     },
     "metadata": {},
     "output_type": "display_data"
    }
   ],
   "source": [
    "#View test dataset\n",
    "from matplotlib import pyplot as plt\n",
    "plt.scatter(Y_test,predicts_test)"
   ]
  },
  {
   "cell_type": "code",
   "execution_count": 303,
   "id": "53114216-21d5-44ce-8b06-67462d11ff3e",
   "metadata": {},
   "outputs": [
    {
     "data": {
      "text/plain": [
       "<matplotlib.collections.PathCollection at 0x1d947f24470>"
      ]
     },
     "execution_count": 303,
     "metadata": {},
     "output_type": "execute_result"
    },
    {
     "data": {
      "image/png": "[encoded data removed]",
      "text/plain": [
       "<Figure size 640x480 with 1 Axes>"
      ]
     },
     "metadata": {},
     "output_type": "display_data"
    }
   ],
   "source": [
    "#View train dataset\n",
    "plt.scatter(Y_train,predicts_train)"
   ]
  },
  {
   "cell_type": "code",
   "execution_count": 304,
   "id": "ad63fc35-3c93-4b30-9f09-580bdcd54450",
   "metadata": {},
   "outputs": [
    {
     "data": {
      "text/plain": [
       "0.08096457825391638"
      ]
     },
     "execution_count": 304,
     "metadata": {},
     "output_type": "execute_result"
    }
   ],
   "source": [
    "#Sanity checks can be done here\n",
    "Y_test[30]"
   ]
  },
  {
   "cell_type": "code",
   "execution_count": 305,
   "id": "9e20bdc7-22f5-4170-9943-2fb2563eb3a1",
   "metadata": {},
   "outputs": [
    {
     "name": "stdout",
     "output_type": "stream",
     "text": [
      "\u001b[1m1/1\u001b[0m \u001b[32m━━━━━━━━━━━━━━━━━━━━\u001b[0m\u001b[37m\u001b[0m \u001b[1m0s\u001b[0m 38ms/step\n"
     ]
    },
    {
     "data": {
      "text/plain": [
       "array([[0.04723741]], dtype=float32)"
      ]
     },
     "execution_count": 305,
     "metadata": {},
     "output_type": "execute_result"
    }
   ],
   "source": [
    "#More sanity checks\n",
    "model.predict(np.array([X_test[30]]))"
   ]
  },
  {
   "cell_type": "code",
   "execution_count": 306,
   "id": "103b9728-47d5-4287-b1b4-189cae64351a",
   "metadata": {},
   "outputs": [],
   "source": [
    "#Make a method so I can average over multiple seeds\n",
    "def boost_regression(X, Y, seed):\n",
    "    regressor = GradientBoostingRegressor(**params, random_state=seed)\n",
    "    #Y_train = np.array(Y_train).flatten()\n",
    "    #X_train = np.array(X_train).flatten()\n",
    "    regressor.fit(X_train, Y_train)\n",
    "    predicts_train = regressor.predict(X_train)\n",
    "    predicts_test = regressor.predict(X_test)\n",
    "    return(predicts_test, predicts_train)"
   ]
  },
  {
   "cell_type": "code",
   "execution_count": 307,
   "id": "65e5876a-f936-4373-bfb4-935d615f90b5",
   "metadata": {},
   "outputs": [],
   "source": [
    "#Get models for multiple seeds\n",
    "a = boost_regression(X_train,Y_train,1)[0]\n",
    "b = boost_regression(X_train,Y_train,100)[0]\n",
    "c = boost_regression(X_train,Y_train,1000)[0]"
   ]
  },
  {
   "cell_type": "code",
   "execution_count": 308,
   "id": "3ab376e0-d982-4605-a63a-0c0237d38200",
   "metadata": {},
   "outputs": [],
   "source": [
    "#Compute average\n",
    "d = (a+b+c)/3"
   ]
  },
  {
   "cell_type": "code",
   "execution_count": 309,
   "id": "a29569c6-b019-4aaa-b185-dbe42f287c06",
   "metadata": {},
   "outputs": [
    {
     "name": "stdout",
     "output_type": "stream",
     "text": [
      "0.0003915808835715718\n",
      "0.6223746243495244\n"
     ]
    }
   ],
   "source": [
    "#Show error\n",
    "print(MSE(Y_test, d))\n",
    "print(sklearn.metrics.r2_score(Y_test, d))"
   ]
  }
 ],
 "metadata": {
  "kernelspec": {
   "display_name": "Python [conda env:base] *",
   "language": "python",
   "name": "conda-base-py"
  },
  "language_info": {
   "codemirror_mode": {
    "name": "ipython",
    "version": 3
   },
   "file_extension": ".py",
   "mimetype": "text/x-python",
   "name": "python",
   "nbconvert_exporter": "python",
   "pygments_lexer": "ipython3",
   "version": "3.12.3"
  }
 },
 "nbformat": 4,
 "nbformat_minor": 5
}
